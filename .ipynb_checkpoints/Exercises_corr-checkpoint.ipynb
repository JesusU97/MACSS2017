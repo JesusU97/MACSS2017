{
 "cells": [
  {
   "cell_type": "markdown",
   "metadata": {},
   "source": [
    "## Exercise : check the evolution of errors\n",
    "\n",
    "\n",
    "\n",
    "In one code, generate 100 times:\n",
    "\n",
    "    Normal random trails of 10 elements with variance = 1\n",
    "    Normal random trails of 100 elements with variance = 1\n",
    "    Normal random trails of 1000 elements with variance = 1\n",
    "Evaluate the mean of each realisation and then the standard deviation of the means for each group 100 realisations (1 stdev for 10 elements, one for 100 elements and one for 100 elements)\n",
    "\n",
    "report the results of the 3 tandard deviations in one plot and compare with expected value $1./\\sqrt(N)$ (because each trial is with variance = 1.)\n",
    "    "
   ]
  },
  {
   "cell_type": "code",
   "execution_count": 10,
   "metadata": {
    "collapsed": false
   },
   "outputs": [
    {
     "data": {
      "image/png": "[encoded data removed]",
      "text/plain": [
       "<matplotlib.figure.Figure at 0x112c933d0>"
      ]
     },
     "metadata": {},
     "output_type": "display_data"
    }
   ],
   "source": [
    "import numpy as np\n",
    "import matplotlib.pyplot as plt\n",
    "%matplotlib inline\n",
    "\n",
    "nb_real = 100   #### number of realisations for each case of N elements \n",
    "\n",
    "#### Define arrays to storage the mean values \n",
    "mean10_arr = np.zeros(nb_real)\n",
    "mean100_arr = np.zeros(nb_real)\n",
    "mean1000_arr = np.zeros(nb_real)\n",
    "\n",
    "\n",
    "##### generate the nb_real for 10, 100 and 1000 elements\n",
    "\n",
    "for ii in range(nb_real):\n",
    "    mean10_arr[ii] = np.mean( np.random.randn(10)*1.+10 )\n",
    "    mean100_arr[ii] = np.mean( np.random.randn(100)*1.+10  )\n",
    "    mean1000_arr[ii] = np.mean( np.random.randn(1000)*1.+10 )\n",
    "    \n",
    "std_arr = np.zeros( 3 )   #### to storage the standard deviation values\n",
    "elements_arr = np.array( [10,100,1000] )\n",
    "\n",
    "std_arr[0] = np.std(mean10_arr)\n",
    "std_arr[1] = np.std(mean100_arr)\n",
    "std_arr[2] = np.std(mean1000_arr)\n",
    "\n",
    "x_theo_arr = np.linspace(1., 1000, 1000)\n",
    "y_theo_arr = 1./np.sqrt(x_theo_arr)\n",
    "\n",
    "plt.figure( figsize=(10,7) )\n",
    "plt.plot(elements_arr, std_arr, 'o', label='Measure')\n",
    "plt.plot(x_theo_arr, y_theo_arr, linestyle='--', label='Theory', lw=3)\n",
    "plt.xlim( (0,1100) )\n",
    "plt.ylim( (0,0.5) )\n",
    "plt.legend(fontsize=15)\n",
    "plt.show()\n"
   ]
  },
  {
   "cell_type": "code",
   "execution_count": null,
   "metadata": {
    "collapsed": true
   },
   "outputs": [],
   "source": []
  },
  {
   "cell_type": "code",
   "execution_count": null,
   "metadata": {
    "collapsed": true
   },
   "outputs": [],
   "source": []
  }
 ],
 "metadata": {
  "kernelspec": {
   "display_name": "Python 2",
   "language": "python",
   "name": "python2"
  },
  "language_info": {
   "codemirror_mode": {
    "name": "ipython",
    "version": 2
   },
   "file_extension": ".py",
   "mimetype": "text/x-python",
   "name": "python",
   "nbconvert_exporter": "python",
   "pygments_lexer": "ipython2",
   "version": "2.7.13"
  }
 },
 "nbformat": 4,
 "nbformat_minor": 0
}
