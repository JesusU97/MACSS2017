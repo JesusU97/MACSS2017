{
 "cells": [
  {
   "cell_type": "code",
   "execution_count": 21,
   "metadata": {
    "collapsed": false
   },
   "outputs": [
    {
     "data": {
      "image/png": "[encoded data removed]",
      "text/plain": [
       "<matplotlib.figure.Figure at 0x10643bcd0>"
      ]
     },
     "metadata": {},
     "output_type": "display_data"
    }
   ],
   "source": [
    "import numpy as np\n",
    "import matplotlib.pyplot as plt\n",
    "%matplotlib inline\n",
    "\n",
    "\n",
    "nb_x = 10\n",
    "x_arr = np.linspace(1., nb_x, nb_x)\n",
    "\n",
    "cov_mat = np.zeros( (nb_x, nb_x) )\n",
    "\n",
    "noise_var = 3.\n",
    "\n",
    "for ii in range(nb_x):\n",
    "    for jj in range(nb_x):\n",
    "        \n",
    "        if (ii == jj) : \n",
    "            cov_mat[ii, jj] = noise_var    #### diagonal variance is noise_var\n",
    "        else :\n",
    "            cov_mat[ii, jj] = noise_var/(abs(ii -jj)*2)  ### off-diagonal cov\n",
    "            \n",
    "plt.pcolormesh(x_arr, x_arr, cov_mat.T)\n",
    "plt.show()"
   ]
  },
  {
   "cell_type": "code",
   "execution_count": 47,
   "metadata": {
    "collapsed": false
   },
   "outputs": [],
   "source": [
    "y_arr = np.zeros( nb_x )\n",
    "\n",
    "a = 2.7\n",
    "b = -2.3\n",
    "\n",
    "vec_noise = np.random.randn(nb_x) * np.sqrt( noise_var ) \n",
    "\n",
    "cov_mat = np.matrix(cov_mat)\n",
    "vec_noise_mix =  (np.dot(cov_mat , vec_noise.T))[0]\n",
    "\n",
    "\n",
    "for ii in range(nb_x):\n",
    "    \n",
    "    y_arr[ii] = a * x_arr[ii] + b + vec_noise_mix[0, ii]\n"
   ]
  },
  {
   "cell_type": "code",
   "execution_count": 48,
   "metadata": {
    "collapsed": false
   },
   "outputs": [
    {
     "data": {
      "image/png": "[encoded data removed]",
      "text/plain": [
       "<matplotlib.figure.Figure at 0x1064b3550>"
      ]
     },
     "metadata": {},
     "output_type": "display_data"
    }
   ],
   "source": [
    "\n",
    "\n",
    "plt.plot(x_arr, y_arr, marker='o', ls='none')\n",
    "plt.show()"
   ]
  },
  {
   "cell_type": "code",
   "execution_count": 49,
   "metadata": {
    "collapsed": true
   },
   "outputs": [],
   "source": [
    "np.savetxt('Covariance_chi2_example_cov.txt', cov_mat.T)   ### Save the covariance matrix used\n",
    "np.savetxt('Points_chi2_example_cov.txt', np.transpose((x_arr, y_arr)) )"
   ]
  },
  {
   "cell_type": "code",
   "execution_count": 2,
   "metadata": {
    "collapsed": false
   },
   "outputs": [
    {
     "data": {
      "image/png": "[encoded data removed]",
      "text/plain": [
       "<matplotlib.figure.Figure at 0x114ef1650>"
      ]
     },
     "metadata": {},
     "output_type": "display_data"
    },
    {
     "name": "stdout",
     "output_type": "stream",
     "text": [
      "99.9984330623\n"
     ]
    }
   ],
   "source": [
    "#### Parto to generate the PDF I want they use for they use to generate a random\n",
    "\n",
    "import numpy as np\n",
    "import matplotlib.pyplot as plt\n",
    "%matplotlib inline\n",
    "\n",
    "x_arr = np.linspace(0., 20., 2001)   #### dx = 0.01\n",
    "nb_x = len(x_arr)\n",
    "\n",
    "sig = 1.\n",
    "sig2 = 2.\n",
    "\n",
    "x1 = 7.\n",
    "x2 = 12.\n",
    "\n",
    "y_arr = (1./2.) * (1./(np.sqrt(2*np.pi)*sig) * (np.exp( -(x_arr-x1)**2/(2*sig**2) )) + 1./(np.sqrt(2*np.pi)*sig2) * (np.exp( -(x_arr-x2)**2/(2*sig2**2) )) )\n",
    "\n",
    "\n",
    "plt.plot(x_arr, y_arr)\n",
    "plt.show()\n",
    "\n",
    "print np.sum(y_arr)\n",
    "\n",
    "np.savetxt('PDF_double_gauss.txt', np.transpose((x_arr, y_arr)) )"
   ]
  },
  {
   "cell_type": "code",
   "execution_count": null,
   "metadata": {
    "collapsed": true
   },
   "outputs": [],
   "source": []
  }
 ],
 "metadata": {
  "kernelspec": {
   "display_name": "Python 2",
   "language": "python",
   "name": "python2"
  },
  "language_info": {
   "codemirror_mode": {
    "name": "ipython",
    "version": 2
   },
   "file_extension": ".py",
   "mimetype": "text/x-python",
   "name": "python",
   "nbconvert_exporter": "python",
   "pygments_lexer": "ipython2",
   "version": "2.7.13"
  }
 },
 "nbformat": 4,
 "nbformat_minor": 0
}
